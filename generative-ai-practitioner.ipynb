{
 "cells": [
  {
   "cell_type": "code",
   "execution_count": null,
   "id": "c91ad76b",
   "metadata": {
    "vscode": {
     "languageId": "plaintext"
    }
   },
   "outputs": [],
   "source": [
    "import boto3\n",
    "import json\n",
    "import urllib.request\n",
    "import time\n",
    "from IPython.display import Audio, display\n",
    "\n",
    "# Initialize clients\n",
    "textract = boto3.client('textract')\n",
    "comprehend = boto3.client('comprehend')\n",
    "translate = boto3.client('translate')\n",
    "transcribe = boto3.client('transcribe')\n",
    "polly = boto3.client('polly')\n",
    "s3 = boto3.resource('s3')"
   ]
  },
  {
   "cell_type": "code",
   "execution_count": null,
   "id": "8af98d40",
   "metadata": {
    "vscode": {
     "languageId": "plaintext"
    }
   },
   "outputs": [],
   "source": [
    "def extract_text_from_pdf(bucket_name, document_name):\n",
    "    response = textract.detect_document_text(\n",
    "        Document={'S3Object': {'Bucket': bucket_name, 'Name': document_name}}\n",
    "    )\n",
    "    text = [item['Text'] for item in response['Blocks'] if item['BlockType'] == 'LINE']\n",
    "    return '\\n'.join(text)\n",
    "\n",
    "\n",
    "# Replace with your bucket and file\n",
    "bucket_name = \"<replace-with-lab-bucket-name>\"\n",
    "document_name = \"ABC_Corporation.pdf\"\n",
    "extracted_text = extract_text_from_pdf(bucket_name, document_name)\n",
    "print(\"Extracted Text:\\n\", extracted_text[:1500])"
   ]
  },
  {
   "cell_type": "code",
   "execution_count": null,
   "id": "b6be6b16",
   "metadata": {
    "vscode": {
     "languageId": "plaintext"
    }
   },
   "outputs": [],
   "source": [
    "def analyze_sentiment(text):\n",
    "    response = comprehend.detect_sentiment(\n",
    "        Text=text[:5000],  # Comprehend limit\n",
    "        LanguageCode='en'\n",
    "    )\n",
    "    return response\n",
    "\n",
    "\n",
    "sentiment_result = analyze_sentiment(extracted_text)\n",
    "print(\"Sentiment Analysis Result:\")\n",
    "print(json.dumps(sentiment_result, indent=2))"
   ]
  },
  {
   "cell_type": "code",
   "execution_count": null,
   "id": "02156657",
   "metadata": {
    "vscode": {
     "languageId": "plaintext"
    }
   },
   "outputs": [],
   "source": [
    "def translate_text(text, target_lang='es'):\n",
    "    response = translate.translate_text(\n",
    "        Text=text[:5000],\n",
    "        SourceLanguageCode='auto',\n",
    "        TargetLanguageCode=target_lang\n",
    "    )\n",
    "    return response['TranslatedText']\n",
    "\n",
    "\n",
    "translated_text = translate_text(extracted_text, 'fr')\n",
    "print(\"Translated Text (French):\\n\", translated_text[:1500])"
   ]
  },
  {
   "cell_type": "code",
   "execution_count": null,
   "id": "285c0ce8",
   "metadata": {
    "vscode": {
     "languageId": "plaintext"
    }
   },
   "outputs": [],
   "source": [
    "def text_to_speech(text, filename):\n",
    "    response = polly.synthesize_speech(\n",
    "        Text=text[:3000],\n",
    "        OutputFormat='mp3',\n",
    "        VoiceId='Joanna'\n",
    "    )\n",
    "\n",
    "    # Get the audio stream content\n",
    "    audio_stream = response['AudioStream'].read()\n",
    "\n",
    "    # Upload to S3\n",
    "    s3.Object(bucket_name, f\"audio-output/{filename}.mp3\").put(\n",
    "        Body=audio_stream\n",
    "    )\n",
    "\n",
    "    print(f\"Audio saved: s3://{bucket_name}/audio-output/{filename}.mp3\")\n",
    "\n",
    "    # Create audio player with the audio data directly\n",
    "    return Audio(data=audio_stream, autoplay=False)\n",
    "\n",
    "\n",
    "# Call the function and display the audio player\n",
    "audio_player = text_to_speech(extracted_text[:3000], \"lab-output\")\n",
    "display(audio_player)"
   ]
  },
  {
   "cell_type": "code",
   "execution_count": null,
   "id": "3c4bcbdf",
   "metadata": {
    "vscode": {
     "languageId": "plaintext"
    }
   },
   "outputs": [],
   "source": [
    "def transcribe_audio(audio_file):\n",
    "    job_name = \"lab-transcription-job\"\n",
    "    transcribe.start_transcription_job(\n",
    "        TranscriptionJobName=job_name,\n",
    "        Media={'MediaFileUri': f\"s3://{bucket_name}/audio-output/{audio_file}\"},\n",
    "        MediaFormat='mp3',\n",
    "        LanguageCode='en-US'\n",
    "    )\n",
    "    while True:\n",
    "        status = transcribe.get_transcription_job(TranscriptionJobName=job_name)\n",
    "        if status['TranscriptionJob']['TranscriptionJobStatus'] in ['COMPLETED', 'FAILED']:\n",
    "            break\n",
    "        time.sleep(5)\n",
    "    \n",
    "    # Get the transcript text from the JSON file\n",
    "    if status['TranscriptionJob']['TranscriptionJobStatus'] == 'COMPLETED':\n",
    "        transcript_uri = status['TranscriptionJob']['Transcript']['TranscriptFileUri']\n",
    "        response = urllib.request.urlopen(transcript_uri)\n",
    "        data = json.loads(response.read())\n",
    "        return data['results']['transcripts'][0]['transcript']\n",
    "    else:\n",
    "        return \"Transcription failed\"\n",
    "\n",
    "audio_file_name = \"lab-output.mp3\"\n",
    "transcript_text = transcribe_audio(audio_file_name)\n",
    "print(\"Transcription Text:\", transcript_text)"
   ]
  },
  {
   "cell_type": "code",
   "execution_count": null,
   "id": "c25588d2",
   "metadata": {
    "vscode": {
     "languageId": "plaintext"
    }
   },
   "outputs": [],
   "source": [
    "def diy_polly_conversion(text, filename):\n",
    "\n",
    "    # TODO: Modify this function\n",
    "    response = polly.synthesize_speech(\n",
    "        Text=text[:3000],\n",
    "        OutputFormat='<replace>',\n",
    "        VoiceId='Matthew'\n",
    "    )\n",
    "\n",
    "    # Get the audio stream content\n",
    "    audio_stream = response['AudioStream'].read()\n",
    "\n",
    "    # TODO: Modify this function\n",
    "    s3.Object(bucket_name, f\"diy-output/{filename}.mp3\").put(\n",
    "        Body=\"<replace>\"\n",
    "    )\n",
    "\n",
    "    print(f\"Audio saved: s3://{bucket_name}/diy-output/{filename}.mp3\")\n",
    "\n",
    "    # Create audio player with the audio data directly\n",
    "    return Audio(data=audio_stream, autoplay=False)\n",
    "\n",
    "\n",
    "# Call the function and display the audio player\n",
    "audio_player = diy_polly_conversion(extracted_text[:3000], \"diy-result\")\n",
    "display(audio_player)"
   ]
  }
 ],
 "metadata": {
  "language_info": {
   "name": "python"
  }
 },
 "nbformat": 4,
 "nbformat_minor": 5
}
